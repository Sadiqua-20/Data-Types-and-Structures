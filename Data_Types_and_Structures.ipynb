{
  "nbformat": 4,
  "nbformat_minor": 0,
  "metadata": {
    "colab": {
      "provenance": [],
      "collapsed_sections": [
        "Q9LSDtFzJIBn"
      ]
    },
    "kernelspec": {
      "name": "python3",
      "display_name": "Python 3"
    },
    "language_info": {
      "name": "python"
    }
  },
  "cells": [
    {
      "cell_type": "markdown",
      "source": [
        "# **DATA TYPES AND STRUCTURES QUESTIONS**"
      ],
      "metadata": {
        "id": "Q9LSDtFzJIBn"
      }
    },
    {
      "cell_type": "markdown",
      "source": [
        "## Q1. What are data structures, and why are they important?\n",
        "\n",
        "- What are they?\n",
        "\n",
        " - Data structures are specialized formats for organizing, storing, and accessing collections of data. They provide efficient ways to manage information based on its characteristics and intended use.\n",
        "\n",
        " - We can think of them as containers that hold our data and determine how we can interact with it. Different containers are better suited for different types of items.\n",
        "\n",
        " - Some data structures of Python are lists, sets, dictionaries, tuples, strings.\n",
        "\n",
        "- Why are they important?\n",
        "\n",
        "    Choosing the right data structure significantly impacts the efficiency and performance of our program.\n",
        "    Well-chosen data structures can:\n",
        "  - Simplify data manipulation (adding, removing, modifying elements)\n",
        "  - Optimize searching and sorting operations\n",
        "  - Conserve memory usage\n",
        "   "
      ],
      "metadata": {
        "id": "fYFPVUOO_JIO"
      }
    },
    {
      "cell_type": "markdown",
      "source": [
        "## Q2. Explain the difference between mutable and immutable data types with examples.\n",
        "\n",
        "-  **Mutable Data Types**\n",
        "\n",
        "     - Definition : Data types whose values can be changed after creation without changing their identity (memory address) are called mutable data types.\n",
        "\n",
        "     - list, dictionary, set are mutable data types.\n",
        "\n",
        "     - Mutable data types are ideal for collections where frequent updates are needed.\n",
        "\n",
        "     - Examples:\n",
        "\n",
        "       - *List*:\n",
        "\n",
        "             my_list = [1, 2, 3]\n",
        "             my_list[0] = 100   # Modifies the list\n",
        "             print(my_list)\n",
        "\n",
        "        OUTPUT :\n",
        "             [100, 2, 3]\n",
        "      - *Dictionary*:\n",
        "\n",
        "             my_dict = {\"a\": 1, \"b\": 2}\n",
        "             my_dict[\"a\"] = 100      # Modifies the dictionary\n",
        "             print(my_dict)  \n",
        "        OUTPUT :\n",
        "             {'a': 100, 'b': 2}\n",
        "      - *Set*:\n",
        "\n",
        "             my_set = {1, 2, 3}\n",
        "             my_set.add(4)       # Modifies the set\n",
        "             print(my_set)  \n",
        "        OUTPUT :\n",
        "             {1, 2, 3, 4}\n",
        "\n",
        "  - Key Feature : Operations like modifying, appending, or deleting elements directly affect the object.\n",
        "\n",
        "- **Immutable Data Types**\n",
        "\n",
        "    - Definition : Data types whose values cannot be changed after creation are called immutable data types. Any \"modification\" results in the creation of a new object.\n",
        "\n",
        "    - tuple, string are immutable data types in Python.\n",
        "\n",
        "    - Immutable data types are safer for concurrent programming.\n",
        "\n",
        "    - Examples:\n",
        "\n",
        "      - *Tuple* :\n",
        "\n",
        "            my_tuple = (1, 2, 3)\n",
        "            my_tuple[0] = 100    # This would raise a TypeError\n",
        "            print(my_tuple)\n",
        "\n",
        "        OUTPUT :\n",
        "            ---------------------------------------------------------------------------\n",
        "            TypeError                                 Traceback (most recent call last)\n",
        "            <ipython-input-1-5956e7ea1a5d> in <cell line: 2>()\n",
        "                  1 my_tuple = (1, 2, 3)\n",
        "            ----> 2 my_tuple[0] = 100    # This would raise a TypeError\n",
        "                  3 print(my_tuple)\n",
        "\n",
        "            TypeError: 'tuple' object does not support item assignment\n",
        "\n",
        "      - *String* :\n",
        "\n",
        "            my_string = \"hello\"\n",
        "            my_string[0] = 'H'    # This would raise a TypeError\n",
        "            print(my_string)\n",
        "\n",
        "          OUTPUT :\n",
        "            ---------------------------------------------------------------------------\n",
        "            TypeError                                 Traceback (most recent call last)\n",
        "            <ipython-input-2-6c496345d569> in <cell line: 2>()\n",
        "                  1 my_string = \"hello\"\n",
        "            ----> 2 my_string[0] = 'H'    # This would raise a TypeError\n",
        "                  3\n",
        "\n",
        "            TypeError: 'str' object does not support item assignment"
      ],
      "metadata": {
        "id": "54Byc7vUiwQ9"
      }
    },
    {
      "cell_type": "markdown",
      "source": [
        "## Q3. What are the main differences between lists and tuples in Python?\n",
        "\n",
        "- ***Key Differences Between Lists and Tuples are*** :\n",
        "   - **Mutability** : lists are mutable (can be modified) while tuples are immutable (cannot be modified).\n",
        "\n",
        "   - **Syntax** : lists are defined using square brackets [ ] while tuples are defined using parentheses ( ).\n",
        "\n",
        "   - **Performance** : lists are slower due to mutability while tuples are faster due to immutability.\n",
        "\n",
        "   - **Use Cases** : lists are used for dynamic collections where elements may change while tuples are\tused for fixed collections where elements shouldn't change.\n",
        "\n",
        "   - **Methods** : list provides many methods like append( ), pop( ), remove( ), insert( ), count( ), etc. while tuple povides only\tlimited methods like count( ), index( ).\n",
        "\n",
        "   - **Memory Usage** : lists require more memory while tuples requires less memory.\n",
        "\n",
        "   - **Hashable** : lists are not hashable, so cannot be used as dictionary keys while tuples are\thashable if all elements are immutable, making it usable as dictionary keys.\n",
        "\n",
        "\n",
        "- ***When to Use Lists vs. Tuples***  :    \n",
        "    - Use a List : When we need a dynamic collection that may grow, shrink, or change over time.\n",
        "Example : Maintaining a to-do list, making a shopping list, etc.\n",
        "\n",
        "    - Use a Tuple : When we want a fixed collection of items that should not change.\n",
        "Example : Representing coordinates (x, y, z) or days of the week."
      ],
      "metadata": {
        "id": "ALUM2COnZpLd"
      }
    },
    {
      "cell_type": "markdown",
      "source": [
        "## Q4. Describe how dictionaries store data.\n",
        "\n",
        "- In Python, dictionaries store data as key-value pairs. Each key is unique and works like a label to identify its associated value. The data is stored in a hash table, which uses a function to convert keys into unique hash codes. These hash codes determine where the key-value pair is stored in memory, making data retrieval fast.\n",
        "\n",
        "- Example:\n",
        "\n",
        "      my_dict = {\"name\": \"Sadiqua\", \"age\": 24, \"course\": \"Data Science with Generative AI\"}\n",
        "      print(my_dict)\n",
        "\n",
        "  OUTPUT :    \n",
        "      {'name': 'Sadiqua', 'age': 24, 'course': 'Data Science with Generative AI'}\n",
        " Key : 'name', 'age', 'course'     \n",
        " Value : 'Sadiqua', 24, 'Data Science with Generative AI'\n",
        "\n",
        "- ***Dictionaries allow quick access***:\n",
        "\n",
        "      print(my_dict[\"name\"])  \n",
        "      \n",
        "  OUTPUT :\n",
        "      Sadiqua\n",
        "  If we use a mutable or unhashable key, it will raise an error."
      ],
      "metadata": {
        "id": "bZzT31YHgwjL"
      }
    },
    {
      "cell_type": "markdown",
      "source": [
        "## Q5. Why might you use a set instead of a list in Python?\n",
        "\n",
        "- We might choose to use a set instead of a list in Python for specific use cases where the features of a set provide clear advantages. Here are the key reasons:\n",
        "\n",
        "   1. ***Unique Elements*** :    \n",
        "      Set : Automatically ensures all elements are unique. Duplicate entries are ignored.\n",
        "\n",
        "      List : Allows duplicates, requiring manual effort to remove them.\n",
        "\n",
        "      Example :\n",
        "      If we need to eliminate duplicates from a collection:\n",
        "          data = [1, 2, 2, 3, 4, 4, 5]\n",
        "          unique_data = set(data)\n",
        "          print(unique_data)  \n",
        "      OUTPUT :\n",
        "\n",
        "          {1, 2, 3, 4, 5}\n",
        "\n",
        "   2. ***Faster Membership Testing*** :    \n",
        "      Set : Membership tests ( in or not in ) are on average *O(1)* ( constant time ), due to hashing.\n",
        "\n",
        "      List : Membership tests are *O(n)* ( linear time, where n is the length of the list ) because each element must be checked sequentially.\n",
        "\n",
        "   3. ***Built-In Set Operations*** :  \n",
        "      Set : Provides optimized methods for mathematical set operations like union, intersection, difference, and symmetric difference.\n",
        "\n",
        "      List : Requires manual implementation for these operations.\n",
        "\n",
        "      Example:\n",
        "          #Performing set operations:\n",
        "          set_a = {1, 2, 3}\n",
        "          set_b = {3, 4, 5}\n",
        "          print(set_a | set_b)    # Union: {1, 2, 3, 4, 5}\n",
        "          print(set_a & set_b)    # Intersection: {3}\n",
        "          print(set_a - set_b)    # Difference: {1, 2}\n",
        "          print(set_a ^ set_b)    # Symmetric difference: {1,2,4,5}\n",
        "      OUTPUT :    \n",
        "          {1, 2, 3, 4, 5}\n",
        "          {3}\n",
        "          {1, 2}\n",
        "          {1, 2, 4, 5}\n",
        "\n",
        "   4. ***Hashability*** :     \n",
        "\n",
        "   Set : Supports hashable elements, making it suitable for certain operations like storing unique items in collections like dictionaries.\n",
        "\n",
        "   List : Does not have this property.\n",
        "\n",
        "\n",
        "- Example Use Case :    \n",
        "Suppose we're analyzing survey responses and need to count unique answers:\n",
        "\n",
        "      responses = [\"yes\", \"no\", \"yes\", \"maybe\", \"no\", \"no\"]\n",
        "      unique_responses = set(responses)\n",
        "      print(unique_responses)  \n",
        "  OUTPUT :\n",
        "      {'yes', 'no', 'maybe'}\n",
        "In this case, using a set is more efficient and concise than using a list."
      ],
      "metadata": {
        "id": "ouTT8OuskphB"
      }
    },
    {
      "cell_type": "markdown",
      "source": [
        "## Q6. What is a string in Python, and how is it different from a list?\n",
        "\n",
        "- In Python, a string is a data type which is a sequence of characters enclosed in either single quotes (') or double quotes (\"). It is used to represent and manipulate text.\n",
        "\n",
        "- ***Key Characteristics of Strings*** :    \n",
        "   - ***Immutable*** :  Strings cannot be changed after they are created. Any operation that appears to modify a string actually creates a new string.\n",
        "\n",
        "         s = \"hello\"\n",
        "         s[0] = \"H\"  # Raises an error because strings are immutable\n",
        "\n",
        "      OUTPUT :    \n",
        "         \n",
        "         ---------------------------------------------------------------------------\n",
        "         TypeError                                 Traceback (most recent call last)\n",
        "         <ipython-input-7-0a0e37c267c2> in <cell line: 2>()\n",
        "               1 s = \"hello\"\n",
        "         ----> 2 s[0] = \"H\"\n",
        "\n",
        "         TypeError: 'str' object does not support item assignment\n",
        "\n",
        "   - ***Homogeneous*** : Strings only store characters (letters, digits, symbols, etc.). Each character is essentially a single Unicode value.\n",
        "   - ***Concatenation and Repetition*** : Strings support operations like concatenation (+) and repetition (*).\n",
        "\n",
        "         s1 = \"hello\"\n",
        "         s2 = \"world\"\n",
        "         print(s1 + \" \" + s2)   #  \"hello world\"\n",
        "         print(s1 * 3)          #  \"hellohellohello\"\n",
        "\n",
        "     OUTPUT :\n",
        "        \n",
        "         hello world\n",
        "         hellohellohello\n",
        "\n",
        "\n",
        "- ***Differences Between Strings and Lists*** :     \n",
        "   - **Mutability** : string is immutable while list is mutable.\n",
        "\n",
        "   - **Element Type** : string is homogeneous (characters only) whereas list is heterogeneous (any type).\n",
        "\n",
        "   - **Methods**: methods in strings are limited (e.g., .lower( ), .split( )) while methods in list are richer (e.g., .append( ), .pop( ),  .extend( ), .index( ))\n",
        "\n",
        "   - **Syntax** : string is enclosed in quotes ( ' )    or ( \" ) while list is enclosed in square brackets [ ].\n",
        "\n",
        "   - **Usage** : string is used in text manipulation while list is used in general-purpose collection.\n",
        "\n",
        "- ***Example*** :\n",
        "    \n",
        "      # String example\n",
        "      string = \"hello\"\n",
        "      print(string[1])  \n",
        "\n",
        "      # List example\n",
        "      lst = [\"h\", \"e\", \"l\", \"l\", \"o\"]\n",
        "      print(lst[1])  \n",
        "\n",
        "      # Modifying list (works)\n",
        "      lst[1] = \"a\"\n",
        "      print(lst)  \n",
        "     \n",
        "      # Modifying string (fails)\n",
        "      string[1] = \"a\"          # Raises TypeError\n",
        "\n",
        " OUTPUT :\n",
        "\n",
        "      e\n",
        "      e\n",
        "      ['h', 'a', 'l', 'l', 'o']\n",
        "      ---------------------------------------------------------------------------\n",
        "      TypeError                                 Traceback (most recent call last)\n",
        "      <ipython-input-9-733f776bf5fa> in <cell line: 14>()\n",
        "          12\n",
        "           13 # Modifying string (fails)\n",
        "      ---> 14 string[1] = \"a\"         # Raises TypeError: 'str' object does not support item assignment.\n",
        "\n",
        "      TypeError: 'str' object does not support item assignment"
      ],
      "metadata": {
        "id": "nRZIbIOnsW68"
      }
    },
    {
      "cell_type": "markdown",
      "source": [
        "## Q7. How do tuples ensure data integrity in Python?\n",
        "\n",
        "- Here are some ways tuples ensure data integrity in Python:\n",
        "\n",
        "   - **Immutability** : Tuples are immutable, meaning their contents cannot be modified after creation. This ensures that once a tuple is created, its data remains consistent and unchanged.\n",
        "\n",
        "   - **Hashability** : Tuples are hashable, which means they can be used as keys in dictionaries. This allows us to use tuples to store and retrieve data in a way that ensures data integrity.\n",
        "\n",
        "   - **Prevention of Accidental Changes** : Since tuples cannot be altered, they prevent accidental changes to the data, which can occur with mutable types like lists. This reduces the risk of unintended side effects in programs and risk of data corruption.\n",
        "\n",
        "   - **Predictable Behaviour** : Because tuples are immutable, their behavior is predictable and reliable. This makes them ideal for scenarios where fixed and consistent data structures are required, such as when passing data to functions or using them in multithreaded environments."
      ],
      "metadata": {
        "id": "zGQS2WHc6mmS"
      }
    },
    {
      "cell_type": "markdown",
      "source": [
        "## Q8. What is a hash table, and how does it relate to dictionaries in Python?\n",
        "\n",
        "- A hash table is a data structure that stores key-value pairs. It uses a hash function to compute an index (or hash code) for each key, which determines where the key-value pair is stored in memory. This allows for efficient data retrieval, insertion, and deletion, typically in constant time *O(1)*.\n",
        "\n",
        "- In Python, the built-in dictionary (dict) is implemented as a hash table.\n",
        "- Here’s how they relate:\n",
        "\n",
        "     - **Key-Value Mapping** : A dictionary stores data in key-value pairs. Keys are hashed to find their corresponding values in the hash table.\n",
        "\n",
        "     - **Hashing** : The keys in a dictionary are hashed using Python’s internal hash function (hash( )). This hash value determines the storage location of the key-value pair in the table.\n",
        "\n",
        "     - **Performance** : Dictionaries provide average *O*(1) time complexity for lookups, insertions, and deletions because they rely on hash tables.\n",
        "\n",
        "     - **Immutability of Keys** : To ensure consistent hashing, keys in a dictionary must be immutable (e.g., strings, numbers, or tuples with immutable elements).\n",
        "\n",
        "     - **Collision Handling** : Hash tables handle situations where two keys produce the same hash value (a collision) using techniques like open addressing or chaining. Python’s dictionaries are optimized to handle collisions efficiently.\n",
        "\n",
        "     - **Dynamic Resizing** : Python dictionaries resize automatically when the hash table becomes too full, maintaining efficient performance."
      ],
      "metadata": {
        "id": "WD42TkuiH9yj"
      }
    },
    {
      "cell_type": "markdown",
      "source": [
        "## Q9.  Can lists contain different data types in Python?\n",
        "\n",
        "- Yes, lists can contain different data types in Python. This is because lists are heterogeneous in nature.\n",
        "- Python lists are dynamic and flexible, allowing us to store a mix of integers, floats, strings, booleans, other lists, or even custom objects within the same list.\n",
        "\n",
        "- Example of a Heterogeneous List :\n",
        "\n",
        "      # A list with different data types\n",
        "      mixed_list = [42, 3.14, \"Hello\", True, [1, 2, 3], {\"key\": \"value\"}]\n",
        "\n",
        "      # Accessing elements\n",
        "      print(mixed_list[0], type(mixed_list[0]))  \n",
        "      print(mixed_list[2], type(mixed_list[2]))  \n",
        "      print(mixed_list[4], type(mixed_list[4]))  \n",
        "      print(mixed_list[5], type(mixed_list[5]))  \n",
        "   OUTPUT :\n",
        "      42 <class 'int'>\n",
        "      Hello <class 'str'>\n",
        "      [1, 2, 3] <class 'list'>\n",
        "      {'key': 'value'} <class 'dict'>"
      ],
      "metadata": {
        "id": "XTxREXb6IN_f"
      }
    },
    {
      "cell_type": "markdown",
      "source": [
        "## Q10. Explain why strings are immutable in Python?\n",
        "\n",
        "- Strings in Python are immutable, meaning once a string object is created, its value cannot be changed. Any operation that modifies a string creates a new string object rather than altering the original.\n",
        "\n",
        "- ***Reasons for String Immutability***:\n",
        "  1.  **Memory Optimization** :\n",
        "   - Strings are heavily used in programs. Making them immutable allows Python to optimize memory usage by reusing existing string objects.\n",
        "\n",
        "   - For example, if two variables reference the same string value, they can share the same memory location without the risk of one modifying the other.\n",
        "            a = \"hello\"\n",
        "            b = \"hello\"\n",
        "            print(a is b)    # both point to the same memory location\n",
        "  OUTPUT :\n",
        "            True\n",
        "\n",
        "  2.  **Hashability** :\n",
        "     - Immutability ensures that strings can be hashed, making them suitable for use as keys in dictionaries or elements in sets.\n",
        "     - If strings were mutable, their hash values could change, causing inconsistencies in data structures like dictionaries.\n",
        "\n",
        "  3.  **Predictable Behaviour** :\n",
        "\n",
        "    - Immutability ensures that string objects behave consistently across different parts of a program. This reduces unexpected side effects and simplifies debugging.\n",
        "\n",
        "  4.  **Historical and Design Choice** :\n",
        "\n",
        "     - Many programming languages treat strings as immutable (e.g., Java, C#). Python follows this convention for consistency and to enjoy similar performance benefits."
      ],
      "metadata": {
        "id": "2cKjh_KjIXh3"
      }
    },
    {
      "cell_type": "markdown",
      "source": [
        "## Q11. What advantages do dictionaries offer over lists for certain tasks?\n",
        "\n",
        "- Dictionaries offer several advantages over lists for certain tasks in Python :\n",
        "\n",
        "  1.  **Fast Lookups** : Dictionaries provide *O(1)* average-time complexity for lookups by key, while lists require *O(n)* for searching by value.\n",
        "\n",
        "  2.  **Key-Value Pair Storage** : Dictionaries store data as key-value pairs, making them ideal for associating unique identifiers (keys) with specific data (values).\n",
        "\n",
        "  3.  **Unordered Access** : Unlike lists, dictionaries allow direct access to elements without needing an index, making data retrieval intuitive.\n",
        "\n",
        "  4.  **Dynamic and Flexible** :\n",
        "Dictionaries can store data of mixed types as keys or values, enabling versatile use cases like configurations or structured data.\n",
        "\n",
        "  5.  **No Duplicate Keys** :\n",
        "Keys in dictionaries are unique, which helps prevent duplicate entries automatically.\n",
        "\n",
        "- ***Example Use Case*** :\n",
        "\n",
        "   - List : Storing a sequence of related items (e.g., [1, 2, 3, 4]).\n",
        "\n",
        "   - Dictionary : Storing a mapping of user IDs to names (e.g., {101: \"Aliya\", 102: \"Bhavesh\"}).\n",
        "\n",
        "Dictionaries excel when we need quick lookups or to map relationships between data."
      ],
      "metadata": {
        "id": "YqvDUkrRIX4e"
      }
    },
    {
      "cell_type": "markdown",
      "source": [
        "## Q12. Describe a scenario where using a tuple would be preferable over a list?\n",
        "\n",
        "- Using a tuple is preferable over a list in scenarios where immutability, memory efficiency, or data integrity is important. Below is a specific example:\n",
        "\n",
        "- Scenario : **Storing Coordinates (Immutable Data)**\n",
        "   If we are working with a program that processes geographic coordinates (latitude, longitude), using a tuple ensures the data remains immutable and cannot be accidentally modified.\n",
        "      # Tuples for coordinates\n",
        "      mumbai_coordinates = (19.0760, 72.8777)   # Latitude and Longitude for Mumbai\n",
        "      kolkata_coordinates = (22.5726, 88.3639)  # Latitude and Longitude for Kolkata\n",
        "\n",
        "      # Prevent accidental changes\n",
        "      mumbai_coordinates[0] = 20.0000         # This will raise a TypeError\n",
        "\n",
        "  OUTPUT :\n",
        "       \n",
        "      ---------------------------------------------------------------------------\n",
        "      TypeError                                 Traceback (most recent call last)\n",
        "      <ipython-input-4-fb07ea654932> in <cell line: 6>()\n",
        "            4\n",
        "            5 # Prevent accidental modification\n",
        "      ----> 6 mumbai_coordinates[0] = 20.0000  # This will raise a TypeError\n",
        "\n",
        "      TypeError: 'tuple' object does not support item assignment     "
      ],
      "metadata": {
        "id": "7boLTPuxIX93"
      }
    },
    {
      "cell_type": "markdown",
      "source": [
        "## Q13. How do sets handle duplicate values in Python?\n",
        "\n",
        "- In Python, *sets automatically eliminate duplicate values*. When we add elements to a set, any duplicate values are discarded, ensuring that all elements in the set are unique.\n",
        "\n",
        "- Key Points About Sets and Duplicates :\n",
        "  1. **Automatic Deduplication** :  \n",
        "   A set automatically ensures uniqueness. If we try to add a duplicate value, it won’t be included.\n",
        "\n",
        "  2. **Hashing**  :      \n",
        "   Sets use hashing to determine uniqueness, so only hashable (immutable) objects like numbers, strings, and tuples can be added to a set.\n",
        "\n",
        "-  Example:\n",
        "\n",
        "       # Creating a set with duplicate values\n",
        "       my_set = {1, 2, 3, 2, 4, 1, 9, 10, 9, 2, 2}\n",
        "\n",
        "       print(my_set)   # (duplicates are removed)\n",
        "\n",
        "       # Adding duplicates\n",
        "       my_set.add(2)\n",
        "       print(my_set)   # (no change because 2 is already in the set)\n",
        "  OUTPUT :    \n",
        "\n",
        "       {1, 2, 3, 4, 9, 10}\n",
        "       {1, 2, 3, 4, 9, 10}\n",
        "\n",
        "\n",
        "- **Practical Use Case** :\n",
        "  - *Removing Duplicates from a List* : We can use a set to quickly eliminate duplicates from a list.\n",
        "\n",
        "        my_list = [1, 2, 2, 3, 4, 4, 5]\n",
        "        unique_values = set(my_list)\n",
        "        print(unique_values)\n",
        "\n",
        "   OUTPUT :\n",
        "        {1, 2, 3, 4, 5}\n",
        "   \n",
        "- So, sets automatically handle duplicates by discarding them, making them useful for storing unique items or removing duplicates from other data structures."
      ],
      "metadata": {
        "id": "qkQksDHyIYCf"
      }
    },
    {
      "cell_type": "markdown",
      "source": [
        "## Q14. How does the “in” keyword work differently for lists and dictionaries?\n",
        "\n",
        "- The **in** keyword is used to check membership in both lists and dictionaries in Python, but it works differently depending on the data structure :\n",
        "\n",
        "  1. **For Lists** :\n",
        "     - The **in** keyword checks if a value exists in the list. It performs a linear search, meaning the time complexity is *O(n)*, where n is the length of the list.\n",
        "     - Example :\n",
        "           my_list = [1, 2, 3, 4, 5]\n",
        "\n",
        "           print(3 in my_list)    # 3 is in the list\n",
        "           print(6 in my_list)    # 6 is not in the list\n",
        "\n",
        "      OUTPUT :    \n",
        "           True\n",
        "           False\n",
        "\n",
        "  2. **For Dictionaries** :\n",
        "     - The **in** keyword checks for the existence of a key, not a value.\n",
        "It is highly efficient, with an average time complexity of *O(1)*, because dictionaries use a hash table for key lookups.\n",
        "     - Example:\n",
        "\n",
        "            my_dict = {\"a\": 1, \"b\": 2, \"c\": 3}\n",
        "\n",
        "            print(\"a\" in my_dict)  # \"a\" is a key in the dictionary\n",
        "            print(1 in my_dict)    # 1 is not a key; it's a value\n",
        "\n",
        "         OUTPUT :    \n",
        "            True\n",
        "            False  \n",
        "\n",
        "   - To check if a value exists in a dictionary, we need to explicitly use .values() :\n",
        "\n",
        "           print(1 in my_dict.values())  # 1 is a value in the dictionary\n",
        "   OUTPUT :\n",
        "           True\n",
        "- Thus, the **in** keyword is optimized for dictionary key lookups but can be slower for lists due to the need for linear scanning."
      ],
      "metadata": {
        "id": "EtlnxoxEIYFW"
      }
    },
    {
      "cell_type": "markdown",
      "source": [
        "## Q15. Can you modify the elements of a tuple? Explain why or why not?\n",
        "\n",
        "- No, we cannot modify the elements of a tuple in Python once it is created.This is because tuples are immutable, meaning their contents cannot be changed after creation.\n",
        "\n",
        "- ***Reasons why tuples are immutable*** :\n",
        "\n",
        "   1. **Immutability by Design** : Python tuples are designed to be immutable to provide a reliable and consistent way to handle data that should not be modified accidentally.\n",
        "\n",
        "   2. **Efficiency** : Because tuples are immutable, they are generally more memory efficient than lists. Python can optimize memory usage by reusing tuple objects, especially when they are used in multiple places.\n",
        "\n",
        "   3. **Hashability** : Tuples can be used as keys in dictionaries or elements in sets because they are immutable. If tuples were mutable, their hash values would change, breaking the consistency of these data structures.\n",
        "\n",
        "   4. **Thread Safety** : Since tuples cannot be changed after creation, they are inherently thread-safe. This means they can be safely used in multi-threaded programs without risk of data corruption.\n",
        "\n",
        "- Example:\n",
        "\n",
        "      my_tuple = (1, 2, 3)\n",
        "      # Attempting to modify an element results in an error\n",
        "      my_tuple[0] = 4         # This will raise a TypeError\n",
        "      \n",
        "  OUTPUT :\n",
        "   \n",
        "      ---------------------------------------------------------------------------\n",
        "      TypeError                                 Traceback (most recent call last)\n",
        "      <ipython-input-6-9813f0ebc994> in <cell line: 3>()\n",
        "            1 my_tuple = (1, 2, 3)\n",
        "            2 # Attempting to modify an element results in an error\n",
        "      ----> 3 my_tuple[0] = 4  # This will raise a TypeError\n",
        "            4\n",
        "            5\n",
        "\n",
        "            TypeError: 'tuple' object does not support item assignment"
      ],
      "metadata": {
        "id": "Fw8GlUEXIYIX"
      }
    },
    {
      "cell_type": "markdown",
      "source": [
        "## Q16. What is a nested dictionary, and give an example of its use case?\n",
        "\n",
        "- A nested dictionary in Python is a dictionary where the values can themselves be dictionaries. This allows us to create more complex data structures, where each key can store another dictionary, enabling us to represent hierarchical or multi-level data.\n",
        "\n",
        "- **Example of a Nested Dictionary's use case** :\n",
        "\n",
        "    STUDENT INFORMATION SYSTEM\n",
        "      # Nested dictionary representing a student's information\n",
        "      student = {\"name\": \"Alina\", \"age\": 21, \"courses\": {\"math\": {\"score\": 85, \"credits\": 3}, \"english\": {\"score\": 92, \"credits\": 4}}}\n",
        "\n",
        "      # Accessing data in the nested dictionary\n",
        "      print(student[\"name\"])   \n",
        "      print(student[\"courses\"][\"math\"][\"score\"])  \n",
        "  OUTPUT :\n",
        "      Alina\n",
        "      85\n",
        "\n",
        " - In the example above, the nested dictionary represents a student's data, including their name, age, and a dictionary of courses with corresponding scores and credits.\n",
        "\n",
        "\n",
        "- A nested dictionary allows us to represent complex, hierarchical data structures. It's useful for scenarios where each key maps to another dictionary, such as representing multi-level categories, organizational structures, or other grouped information."
      ],
      "metadata": {
        "id": "Br9mZPdcJNff"
      }
    },
    {
      "cell_type": "markdown",
      "source": [
        "## Q17.  Describe the time complexity of accessing elements in a dictionary?\n",
        "\n",
        "- The time complexity of accessing elements in a dictionary in Python is *O(1)* (constant time) on average. This efficiency is due to the way dictionaries are implemented using a hash table.\n",
        "\n",
        "- Why is it *O(1)* on average?\n",
        "\n",
        "  - **Hash Table Mechanism** : Python dictionaries use a hash table to store key-value pairs. When we access a value by its key, Python computes the hash of the key, which determines the location (or bucket) in memory where the value is stored.\n",
        "This process takes constant time on average, as the hash function distributes keys evenly across buckets.\n",
        "\n",
        " - **Direct Access** : Once the hash is computed, Python directly retrieves the value from the appropriate bucket without needing to search through other keys.\n",
        "\n",
        "\n",
        "- Worst-Case Time Complexity : *O(n)*\n",
        "\n",
        "   In rare cases, the time complexity can degrade to *O(n)*  when :\n",
        "\n",
        "    - **Hash Collisions** : If multiple keys have the same hash value (a hash collision), they are stored in the same bucket.\n",
        "\n",
        "    - To resolve this, Python chains the keys with the same hash into a list, and the dictionary needs to search through this list, which can take *O(n)* in the worst case.\n",
        "However, Python’s hash table implementation is designed to minimize collisions, making *O(n)* very uncommon in practice."
      ],
      "metadata": {
        "id": "rj1J22eNJNjd"
      }
    },
    {
      "cell_type": "markdown",
      "source": [
        "## Q18. In what situations are lists preferred over dictionaries?\n",
        "\n",
        "- *Lists are preferred over dictionaries in Python when* :\n",
        "\n",
        "  1. **Sequential or Ordered Data** : When we need to store and access elements in a specific order.\n",
        "      Lists maintain the insertion order, while dictionaries (before Python 3.7) did not guarantee order.\n",
        "\n",
        "       Example : A list of numbers or names where order matters:\n",
        "\n",
        "         names = [\"Alex\", \"Bhavesh\", \"Chahat\"]\n",
        "         print(names[1])   \n",
        "      Output :\n",
        "         'Bhavesh'\n",
        "\n",
        "  2. **Simple Collections Without Key-Value Pairing** : When our data doesn’t need to be mapped to a specific identifier (key), a list is simpler and more efficient.\n",
        "       \n",
        "       Example :\n",
        "\n",
        "          # Storing test scores:\n",
        "          scores = [85, 90, 78]\n",
        "  3. **Iterating Over Data** : When we frequently need to iterate over the collection, lists are straightforward and often more natural for such tasks.\n",
        "\n",
        "        Example :\n",
        "\n",
        "         for score in scores:\n",
        "         print(score)\n",
        "\n",
        "  4. **Index-Based Access** : If we need to access elements by their position (index), lists are ideal.\n",
        "  Dictionaries are not designed for index-based access.\n",
        "\n",
        "        Example:\n",
        "\n",
        "         print(scores[0])  # Access the first element directly.\n",
        "\n",
        "  5. **When Order and Duplication Are Important** : Lists allow duplicates, whereas dictionaries do not permit duplicate keys.\n",
        "     If duplicates are essential, lists are preferred.\n",
        "     \n",
        "      Example:\n",
        "\n",
        "         items = [\"apple\", \"banana\", \"apple\"]\n",
        "\n",
        "  6. **Memory Efficiency for Small Datasets** : Lists are more memory-efficient for smaller datasets since dictionaries use additional memory for hashing and storing keys.\n",
        "\n",
        "\n",
        "- So, lists are preferred when we need ordered, simple collections, index-based access, or duplicate elements, and the data does not require key-value mappings. They are ideal for sequential or repetitive tasks with simpler data structures."
      ],
      "metadata": {
        "id": "y8sfkvdPJNnd"
      }
    },
    {
      "cell_type": "markdown",
      "source": [
        "## Q19. Why are dictionaries considered unordered, and how does that affect data retrieval?\n",
        "\n",
        "- In Python, dictionaries were historically considered unordered because they did not maintain the insertion order of their elements in versions before Python 3.7. But, starting from Python 3.7, dictionaries officially guarantee that the insertion order is preserved.\n",
        "\n",
        "- Here’s an explanation of why dictionaries were considered unordered and how that affected data retrieval:\n",
        "\n",
        "  1. **Historical Perspective** :\n",
        "    - **Before Python 3.7** : Dictionaries did not maintain the order in which keys were inserted. This was due to the underlying implementation of dictionaries, which used hash tables to optimize lookups. The hashing mechanism focused on performance rather than preserving order.\n",
        "\n",
        "       Example (Pre-Python 3.7) :\n",
        "\n",
        "           my_dict = {'b': 2, 'a': 1, 'c': 3}\n",
        "           print(my_dict)  \n",
        "          \n",
        "        OUTPUT could be :    \n",
        "           {'a': 1, 'c': 3, 'b': 2}\n",
        "        , etc.\n",
        "\n",
        "    - **Python 3.7 and Beyond** : The order of insertion is preserved, making dictionaries effectively ordered collections in modern Python versions. This means that when iterating through a dictionary, the items are retrieved in the same order they were added.\n",
        "\n",
        "       Example (Python 3.7+) :\n",
        "\n",
        "           my_dict = {'b': 2, 'a': 1, 'c': 3}\n",
        "           print(my_dict)  \n",
        "       OUTPUT :\n",
        "           {'b': 2, 'a': 1, 'c': 3}\n",
        "\n",
        "  2. **How It Affects Data Retrieval** :\n",
        "   - **Before Python 3.7** : Data retrieval relied purely on the hash table mechanism, so the insertion order of elements was not preserved. Iterating through the dictionary could result in items appearing in an arbitrary order.Example use cases that required order, like maintaining logs or preserving user data sequence, needed an alternative like collections.OrderedDict.\n",
        "\n",
        "   - **Python 3.7 and Beyond** : Data retrieval respects the insertion order. This makes it predictable and more convenient for tasks where order is essential. Iterating through a dictionary yields items in the order they were added, making dictionaries more versatile without requiring OrderedDict."
      ],
      "metadata": {
        "id": "X8QUBKJZJNrN"
      }
    },
    {
      "cell_type": "markdown",
      "source": [
        "## Q20. Explain the difference between a list and a dictionary in terms of data retrieval.\n",
        "\n",
        "- Some key differences between lists and dictionaries in terms of data retrieval include :\n",
        "  1. **Indexing** :\n",
        "     - **List** : Data is retrieved by index (position). The index is an integer starting from 0 for the first element.\n",
        "        \n",
        "        Example :\n",
        "\n",
        "           my_list = [10, 20, 30]\n",
        "           print(my_list[1])  \n",
        "        Output :\n",
        "           20\n",
        "     - **Dictionary** : Data is retrieved by key. Keys can be any immutable object (e.g., strings, numbers, tuples).\n",
        "\n",
        "        Example :\n",
        "\n",
        "           my_dict = {\"a\": 10, \"b\": 20, \"c\": 30}\n",
        "           print(my_dict[\"b\"])  \n",
        "        Output :\n",
        "           20\n",
        "\n",
        "  2. **Lookup time** : Both lists and dictionaries have fast lookup times, but lists are faster when looking up items by index, while dictionaries are faster when looking up items by key.\n",
        "\n",
        "  3. **Use Case** :\n",
        "   - **List** : Best for ordered collections of data where values are accessed sequentially or by position.\n",
        "     Example : A list of student names.\n",
        "   - **Dictionary** : Best for data that requires fast lookups based on a unique key.\n",
        "     Example : A mapping of student IDs to their names.\n"
      ],
      "metadata": {
        "id": "3gzfI-B_JNvF"
      }
    },
    {
      "cell_type": "markdown",
      "source": [
        "# **PRACTICAL QUESTIONS**"
      ],
      "metadata": {
        "id": "KB0nhPnFJWQ4"
      }
    },
    {
      "cell_type": "code",
      "source": [
        "# Q1. Write a code to create a string with your name and print it.\n",
        "\n",
        "'Creating a string with my name'\n",
        "name = \"Sadiqua Quadir\"\n",
        "\n",
        "'Printing the created string'\n",
        "print(name)"
      ],
      "metadata": {
        "colab": {
          "base_uri": "https://localhost:8080/"
        },
        "id": "pxN-DMDKJlyB",
        "outputId": "3acfdfdb-a745-44cf-8bdd-595f3d2f1e1c"
      },
      "execution_count": null,
      "outputs": [
        {
          "output_type": "stream",
          "name": "stdout",
          "text": [
            "Sadiqua Quadir\n"
          ]
        }
      ]
    },
    {
      "cell_type": "code",
      "source": [
        "# Q2. Write a code to find the length of the string \"Hello World\".\n",
        "\n",
        "len(\"Hello World\")"
      ],
      "metadata": {
        "colab": {
          "base_uri": "https://localhost:8080/"
        },
        "id": "ECrYV92jM-0z",
        "outputId": "7c2c60f5-fbd6-4c36-d72a-d775661c523a"
      },
      "execution_count": null,
      "outputs": [
        {
          "output_type": "execute_result",
          "data": {
            "text/plain": [
              "11"
            ]
          },
          "metadata": {},
          "execution_count": 2
        }
      ]
    },
    {
      "cell_type": "code",
      "source": [
        "# Q3. Write a code to slice the first 3 characters from the string \"Python Programming\".\n",
        "\n",
        "'Original string'\n",
        "string = \"Python Programming\"\n",
        "\n",
        "'Slicing the first three characters'\n",
        "sliced_string = string[0:3]\n",
        "\n",
        "'Printing the result'\n",
        "print(sliced_string)"
      ],
      "metadata": {
        "id": "1jq51k5gNLGs",
        "colab": {
          "base_uri": "https://localhost:8080/"
        },
        "outputId": "9510db6e-5f6f-43b9-d6f5-36224198d9a1"
      },
      "execution_count": 1,
      "outputs": [
        {
          "output_type": "stream",
          "name": "stdout",
          "text": [
            "Pyt\n"
          ]
        }
      ]
    },
    {
      "cell_type": "code",
      "source": [
        "# Q4. Write a code to convert the string \"hello\" to uppercase.\n",
        "\n",
        "'Original string'\n",
        "string = \"hello\"\n",
        "\n",
        "'Converting to uppercase'\n",
        "uppercase_string = string.upper()\n",
        "\n",
        "'Printing the result'\n",
        "print(uppercase_string)"
      ],
      "metadata": {
        "id": "MhgLflOJNYFV",
        "colab": {
          "base_uri": "https://localhost:8080/"
        },
        "outputId": "df710fdf-f5a0-42d2-c83e-242d27d83bc3"
      },
      "execution_count": null,
      "outputs": [
        {
          "output_type": "stream",
          "name": "stdout",
          "text": [
            "HELLO\n"
          ]
        }
      ]
    },
    {
      "cell_type": "code",
      "source": [
        "# Q5. Write a code to replace the word \"apple\" with \"orange\" in the string \"I like apple\".\n",
        "\n",
        "'Original string'\n",
        "string = \"I like apple\"\n",
        "\n",
        "'Replacing \"apple\" with \"orange\" '\n",
        "updated_string = string.replace(\"apple\", \"orange\")\n",
        "\n",
        "'Printing the result'\n",
        "print(updated_string)"
      ],
      "metadata": {
        "id": "VqeDeAygNeGl",
        "colab": {
          "base_uri": "https://localhost:8080/"
        },
        "outputId": "74e27de4-7b11-4a2e-cb73-8c46913daf09"
      },
      "execution_count": null,
      "outputs": [
        {
          "output_type": "stream",
          "name": "stdout",
          "text": [
            "I like orange\n"
          ]
        }
      ]
    },
    {
      "cell_type": "code",
      "source": [
        "# Q6. Write a code to create a list with numbers 1 to 5 and print it.\n",
        "\n",
        "'Creating a list with numbers from 1 to 5'\n",
        "list_1 = [1, 2, 3, 4, 5]\n",
        "\n",
        "'Printing the created list'\n",
        "print(list_1)"
      ],
      "metadata": {
        "colab": {
          "base_uri": "https://localhost:8080/"
        },
        "id": "uDqgJ3FiNek-",
        "outputId": "31362ede-e2a4-4975-c19c-99f318524594"
      },
      "execution_count": null,
      "outputs": [
        {
          "output_type": "stream",
          "name": "stdout",
          "text": [
            "[1, 2, 3, 4, 5]\n"
          ]
        }
      ]
    },
    {
      "cell_type": "code",
      "source": [
        "# Q7. Write a code to append the number 10 to the list [1, 2, 3, 4].\n",
        "\n",
        "'Original the list'\n",
        "_list_ = [1, 2, 3, 4]\n",
        "\n",
        "'Appending 10 to the created list'\n",
        "_list_.append(10)\n",
        "\n",
        "'Printing the result'\n",
        "print(_list_)"
      ],
      "metadata": {
        "colab": {
          "base_uri": "https://localhost:8080/"
        },
        "id": "xEyyX6wYNeoG",
        "outputId": "3221a26c-dbe3-41da-c5be-882abe1d3c6f"
      },
      "execution_count": null,
      "outputs": [
        {
          "output_type": "stream",
          "name": "stdout",
          "text": [
            "[1, 2, 3, 4, 10]\n"
          ]
        }
      ]
    },
    {
      "cell_type": "code",
      "source": [
        "# Q8. Write a code to remove the number 3 from the list [1, 2, 3, 4, 5].\n",
        "\n",
        "'Original list'\n",
        "LIST = [1, 2, 3, 4, 5]\n",
        "\n",
        "'Removing the number 3 from the created list'\n",
        "LIST.remove(3)\n",
        "\n",
        "'Printing the result'\n",
        "print(LIST)"
      ],
      "metadata": {
        "colab": {
          "base_uri": "https://localhost:8080/"
        },
        "id": "eCe79ucQNerG",
        "outputId": "03380eb6-4490-44a6-9955-494f0e4c2765"
      },
      "execution_count": null,
      "outputs": [
        {
          "output_type": "stream",
          "name": "stdout",
          "text": [
            "[1, 2, 4, 5]\n"
          ]
        }
      ]
    },
    {
      "cell_type": "code",
      "source": [
        "# Q9. Write a code to access the second element in the list ['a', 'b', 'c', 'd'].\n",
        "\n",
        "'Original list'\n",
        "X = ['a', 'b', 'c', 'd']\n",
        "\n",
        "'Acccessing the second element of the created list'\n",
        "X[1]"
      ],
      "metadata": {
        "colab": {
          "base_uri": "https://localhost:8080/",
          "height": 36
        },
        "id": "xgVzWGY_Neue",
        "outputId": "29374aa8-ede5-41e8-b46d-8f1c000fe918"
      },
      "execution_count": null,
      "outputs": [
        {
          "output_type": "execute_result",
          "data": {
            "text/plain": [
              "'b'"
            ],
            "application/vnd.google.colaboratory.intrinsic+json": {
              "type": "string"
            }
          },
          "metadata": {},
          "execution_count": 6
        }
      ]
    },
    {
      "cell_type": "code",
      "source": [
        "# Q10. Write a code to reverse the list [10, 20, 30, 40, 50].\n",
        "\n",
        "'Original list'\n",
        "numbers = [10, 20, 30, 40, 50]\n",
        "\n",
        "'Reversing the list'\n",
        "numbers.reverse()\n",
        "\n",
        "'Printing the result'\n",
        "print(numbers)"
      ],
      "metadata": {
        "id": "MfqtWPS4OMGq",
        "colab": {
          "base_uri": "https://localhost:8080/"
        },
        "outputId": "c27a5946-c6ee-4835-e74a-d33f79980b71"
      },
      "execution_count": null,
      "outputs": [
        {
          "output_type": "stream",
          "name": "stdout",
          "text": [
            "[50, 40, 30, 20, 10]\n"
          ]
        }
      ]
    },
    {
      "cell_type": "code",
      "source": [
        "# Q11. Write a code to create a tuple with the elements 10, 20, 30 and print it.\n",
        "\n",
        "'Creating a tuple with elements 10, 20, 30'\n",
        "TUPLE = (10, 20, 30)\n",
        "\n",
        "'Printing the created tuple'\n",
        "print(TUPLE)"
      ],
      "metadata": {
        "colab": {
          "base_uri": "https://localhost:8080/"
        },
        "id": "rhQrR0YhOMDK",
        "outputId": "2c7faf58-4444-4b7f-9067-605ff8acb0f3"
      },
      "execution_count": null,
      "outputs": [
        {
          "output_type": "stream",
          "name": "stdout",
          "text": [
            "(10, 20, 30)\n"
          ]
        }
      ]
    },
    {
      "cell_type": "code",
      "source": [
        "# Q12. Write a code to access the first element of the tuple ('apple', 'banana', 'cherry').\n",
        "\n",
        "'Original tuple'\n",
        "Tuple = ('apple', 'banana', 'cherry')\n",
        "\n",
        "'Accessing the 1st element of the created tuple'\n",
        "Tuple[0]"
      ],
      "metadata": {
        "colab": {
          "base_uri": "https://localhost:8080/",
          "height": 36
        },
        "id": "v2wxqXlPOc1l",
        "outputId": "784dde1c-dd86-4286-8fd8-40aca898bcb3"
      },
      "execution_count": null,
      "outputs": [
        {
          "output_type": "execute_result",
          "data": {
            "text/plain": [
              "'apple'"
            ],
            "application/vnd.google.colaboratory.intrinsic+json": {
              "type": "string"
            }
          },
          "metadata": {},
          "execution_count": 9
        }
      ]
    },
    {
      "cell_type": "code",
      "source": [
        "# Q13. Write a code to count how many times the number 2 appears in the tuple (1, 2, 3, 2, 4, 2).\n",
        "\n",
        "'Tuple'\n",
        "numbers = (1, 2, 3, 2, 4, 2)\n",
        "\n",
        "'Counting the occurrences of 2'\n",
        "count_of_2 = numbers.count(2)\n",
        "\n",
        "'Printing the result'\n",
        "print(f\" The number 2 appears {count_of_2} times.\")"
      ],
      "metadata": {
        "id": "Nm1jKeH8OL0T",
        "colab": {
          "base_uri": "https://localhost:8080/"
        },
        "outputId": "8c5af801-4585-4045-b7c0-a924ef3ae242"
      },
      "execution_count": null,
      "outputs": [
        {
          "output_type": "stream",
          "name": "stdout",
          "text": [
            " The number 2 appears 3 times.\n"
          ]
        }
      ]
    },
    {
      "cell_type": "code",
      "source": [
        "# Q14. Write a code to find the index of the element \"cat\" in the tuple ('dog', 'cat', 'rabbit').\n",
        "\n",
        "'Tuple'\n",
        "animals = ('dog', 'cat', 'rabbit')\n",
        "\n",
        "'Finding the index of \"cat\" '\n",
        "index_of_cat = animals.index('cat')\n",
        "\n",
        "'Printing the result'\n",
        "print(f\" The index of 'cat' is {index_of_cat}.\")"
      ],
      "metadata": {
        "id": "KtuLmFuuOt-u",
        "colab": {
          "base_uri": "https://localhost:8080/"
        },
        "outputId": "c7fc0351-2433-406c-c76c-50c4da34f04f"
      },
      "execution_count": null,
      "outputs": [
        {
          "output_type": "stream",
          "name": "stdout",
          "text": [
            " The index of 'cat' is 1.\n"
          ]
        }
      ]
    },
    {
      "cell_type": "code",
      "source": [
        "# Q15. Write a code to check if the element \"banana\" is in the tuple ('apple', 'orange', 'banana').\n",
        "\n",
        "'Original tuple'\n",
        "Y = ('apple', 'orange', 'banana')\n",
        "\n",
        "'Checking if \"banana\" is in the created tuple'\n",
        "'banana' in Y"
      ],
      "metadata": {
        "colab": {
          "base_uri": "https://localhost:8080/"
        },
        "id": "QhtZZU7dOt1W",
        "outputId": "eb0838fa-42ca-49b4-8330-8e3e0da931ff"
      },
      "execution_count": null,
      "outputs": [
        {
          "output_type": "execute_result",
          "data": {
            "text/plain": [
              "True"
            ]
          },
          "metadata": {},
          "execution_count": 10
        }
      ]
    },
    {
      "cell_type": "code",
      "source": [
        "# Q16.  Write a code to create a set with the elements 1, 2, 3, 4, 5 and print it.\n",
        "\n",
        "'Creating a set with elements 1, 2, 3, 4, 5'\n",
        "SET = {1, 2, 3, 4, 5}\n",
        "\n",
        "'Printing the created set'\n",
        "print(SET)"
      ],
      "metadata": {
        "colab": {
          "base_uri": "https://localhost:8080/"
        },
        "id": "KFRAh2m3Otsf",
        "outputId": "da0e28e8-b28a-45d7-ee84-f8458de812f4"
      },
      "execution_count": null,
      "outputs": [
        {
          "output_type": "stream",
          "name": "stdout",
          "text": [
            "{1, 2, 3, 4, 5}\n"
          ]
        }
      ]
    },
    {
      "cell_type": "code",
      "source": [
        "# Q17. Write a code to add the element 6 to the set {1, 2, 3, 4}.\n",
        "\n",
        "'Original set'\n",
        "numbers = {1, 2, 3, 4}\n",
        "\n",
        "'Adding element 6 to the set'\n",
        "numbers.add(6)\n",
        "\n",
        "'Printing the result'\n",
        "print(numbers)"
      ],
      "metadata": {
        "id": "LPkBkATVPImq",
        "colab": {
          "base_uri": "https://localhost:8080/"
        },
        "outputId": "9a300487-f0c9-4f29-9d77-3d395214e260"
      },
      "execution_count": null,
      "outputs": [
        {
          "output_type": "stream",
          "name": "stdout",
          "text": [
            "{1, 2, 3, 4, 6}\n"
          ]
        }
      ]
    }
  ]
}